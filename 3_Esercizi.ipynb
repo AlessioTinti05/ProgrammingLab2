{
 "cells": [
  {
   "cell_type": "markdown",
   "metadata": {},
   "source": [
    "1.Consumo di alcol per paese\n",
    "Esegui un’analisi esplorativa focalizzata sul consumo di alcol.\n",
    "Analizza i seguenti aspetti:\n",
    "\n",
    "Visualizza i primi 10 paesi ordinati per total_litres_of_pure_alcohol (dal più alto)\n",
    "\n",
    "Calcola la media del consumo di birra, vino, e distillati\n",
    "\n",
    "Crea una nuova colonna alcohol_index che sia: (beer_servings + wine_servings + spirit_servings) / 3\n",
    "\n",
    "Trova il paese con il valore massimo di alcohol_index\n",
    "\n",
    "Filtra solo i paesi che consumano più di 100 birre all’anno\n",
    "\n",
    "Crea un bar chart dei 10 paesi con più consumo totale (total_litres_of_pure_alcohol)\n",
    "\n",
    "Crea un line plot con wine_servings ordinato per paese (usa sort_values)"
   ]
  },
  {
   "cell_type": "code",
   "execution_count": null,
   "metadata": {},
   "outputs": [
    {
     "data": {
      "text/plain": [
       "Text(0, 0.5, 'Litri di puro alcol')"
      ]
     },
     "execution_count": 40,
     "metadata": {},
     "output_type": "execute_result"
    },
    {
     "data": {
      "image/png": "[encoded data removed]",
      "text/plain": [
       "<Figure size 640x480 with 1 Axes>"
      ]
     },
     "metadata": {},
     "output_type": "display_data"
    }
   ],
   "source": [
    "\n",
    "import pandas as pd\n",
    "import matplotlib.pyplot as plt\n",
    "\n",
    "df = pd.read_csv(\"https://raw.githubusercontent.com/fivethirtyeight/data/master/alcohol-consumption/drinks.csv\")\n",
    "\n",
    "#1\n",
    "TotLit =df.sort_values(by=\"total_litres_of_pure_alcohol\", ascending=False)\n",
    "highest=TotLit.head(10)\n",
    "highest=highest.loc[:,\"country\"]\n",
    "#print(one)\n",
    "\n",
    "#2\n",
    "two_1 = df.beer_servings\n",
    "two_1 = pd.Series(two_1).mean()\n",
    "#print(two_1)\n",
    "two_2 = df.wine_servings\n",
    "two_2 = pd.Series(two_2).mean()\n",
    "#print(two_2)\n",
    "two_3 = df.spirit_servings\n",
    "two_3 = pd.Series(two_3).mean()\n",
    "#print(two_3)\n",
    "\n",
    "#3\n",
    "df[\"alcohol_index\"] = ((df.beer_servings + df.wine_servings + df.spirit_servings)/3).astype(int)\n",
    "#print(df.alcohol_index)\n",
    "\n",
    "#4\n",
    "Max_ali=df.sort_values(by=\"alcohol_index\", ascending=False)\n",
    "Max_ali = Max_ali.head(1)\n",
    "Max_ali=Max_ali.loc[:,\"country\"]\n",
    "#print(Max_ali)\n",
    "\n",
    "#5\n",
    "more_beers = df[df[\"beer_servings\"] > 100].loc[:,\"country\"]\n",
    "#print(more_beers)\n",
    "\n",
    "#TotLit =df.sort_values(by=\"total_litres_of_pure_alcohol\", ascending=False)\n",
    "highest = TotLit.head(10)\n",
    "countries = highest[\"country\"]\n",
    "alcohol = highest[\"total_litres_of_pure_alcohol\"]\n",
    "highest_bar = plt.bar(countries, alcohol)\n",
    "plt.title('Top 10 Paesi per litri di puro alcol')\n",
    "plt.xlabel('Paesi')\n",
    "plt.ylabel('Litri di puro alcol')\n",
    "\n",
    "#6\n"
   ]
  },
  {
   "cell_type": "markdown",
   "metadata": {},
   "source": [
    "2.Analisi offerte di lavoro\n",
    "Esegui un’analisi esplorativa focalizzata sui lavori nel campo dei dati in ciascun paese.\n",
    "Analizza i seguenti aspetti per ogni paese:\n",
    "\n",
    "Lo stipendio medio annuale (salary_year_avg)\n",
    "Il numero totale di offerte di lavoro (job count)\n",
    "L’intervallo degli stipendi: valore minimo e massimo (min / max)\n",
    "Rappresenta graficamente lo stipendio medio (salary_year_avg) per job_title_short usando un grafico a barre orizzontali. Ordina i dati dallo stipendio più alto al più basso. Includi un titolo e le etichette per gli assi x e y."
   ]
  },
  {
   "cell_type": "code",
   "execution_count": 3,
   "metadata": {},
   "outputs": [
    {
     "name": "stderr",
     "output_type": "stream",
     "text": [
      "c:\\Users\\hp\\miniconda3\\Lib\\site-packages\\tqdm\\auto.py:21: TqdmWarning: IProgress not found. Please update jupyter and ipywidgets. See https://ipywidgets.readthedocs.io/en/stable/user_install.html\n",
      "  from .autonotebook import tqdm as notebook_tqdm\n",
      "c:\\Users\\hp\\miniconda3\\Lib\\site-packages\\huggingface_hub\\file_download.py:142: UserWarning: `huggingface_hub` cache-system uses symlinks by default to efficiently store duplicated files but your machine does not support them in C:\\Users\\hp\\.cache\\huggingface\\hub\\datasets--lukebarousse--data_jobs. Caching files will still work but in a degraded version that might require more space on your disk. This warning can be disabled by setting the `HF_HUB_DISABLE_SYMLINKS_WARNING` environment variable. For more details, see https://huggingface.co/docs/huggingface_hub/how-to-cache#limitations.\n",
      "To support symlinks on Windows, you either need to activate Developer Mode or to run Python as an administrator. In order to activate developer mode, see this article: https://docs.microsoft.com/en-us/windows/apps/get-started/enable-your-device-for-development\n",
      "  warnings.warn(message)\n",
      "Generating train split: 100%|██████████| 785741/785741 [00:08<00:00, 90058.71 examples/s]\n"
     ]
    }
   ],
   "source": [
    "import pandas as pd\n",
    "from datasets import load_dataset\n",
    "\n",
    "dataset = load_dataset('lukebarousse/data_jobs')\n",
    "df = dataset['train'].to_pandas()\n",
    "\n",
    "df['job_posted_date'] = pd.to_datetime(df['job_posted_date'])"
   ]
  }
 ],
 "metadata": {
  "kernelspec": {
   "display_name": "Python 3",
   "language": "python",
   "name": "python3"
  },
  "language_info": {
   "codemirror_mode": {
    "name": "ipython",
    "version": 3
   },
   "file_extension": ".py",
   "mimetype": "text/x-python",
   "name": "python",
   "nbconvert_exporter": "python",
   "pygments_lexer": "ipython3",
   "version": "3.12.9"
  }
 },
 "nbformat": 4,
 "nbformat_minor": 2
}
