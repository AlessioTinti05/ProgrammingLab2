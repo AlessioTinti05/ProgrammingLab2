{
 "cells": [
  {
   "cell_type": "markdown",
   "metadata": {},
   "source": [
    "### **1. Trasformare cicli in list comprehension**\n",
    "\n",
    "Fai tre esempi di cicli producono una lista e poi riscrivi lo stesso codice usando la list comprehension"
   ]
  },
  {
   "cell_type": "code",
   "execution_count": null,
   "metadata": {},
   "outputs": [
    {
     "data": {
      "text/plain": [
       "['s', 's']"
      ]
     },
     "execution_count": 1,
     "metadata": {},
     "output_type": "execute_result"
    }
   ],
   "source": [
    "#1)\n",
    "lista1 = [1, 2, 3, 4]\n",
    "lista2 = [2, 3, 4, 5]\n",
    "lista_in_comune = []\n",
    "for item in lista1:\n",
    "    if item in lista2:\n",
    "        lista_in_comune.append(item)\n",
    "lista_in_comune\n",
    "\n",
    "lista_in_comune2 = [item for item in lista1 if item in lista2]\n",
    "lista_in_comune2\n",
    "\n",
    "#2)\n",
    "lista3 = []\n",
    "for i in range(0,11):\n",
    "    if i % 3 == 0:\n",
    "        i = i*i\n",
    "        lista3.append(i)\n",
    "lista3\n",
    "\n",
    "lista3_2 = [i*i for i in range(0,11) if i%3==0]\n",
    "lista3_2\n",
    "\n",
    "#3)\n",
    "lista_result = []\n",
    "\n",
    "for char in \"Test stringa\":\n",
    "    if char == \"s\":\n",
    "        lista_result.append(char)\n",
    "lista_result\n",
    "\n",
    "lista_result2 = [char for char in \"Test stringa\" if char == \"s\"]\n",
    "lista_result2\n"
   ]
  },
  {
   "cell_type": "markdown",
   "metadata": {},
   "source": [
    "### **2. Vettore di Numeri Primi**\n",
    "\n",
    "1. **Crea un vettore** contenente tutti i numeri primi compresi tra **0 e 10**  \n",
    "   _(Puoi scriverli direttamente nell'array)._\n",
    "\n",
    "2. **Conta quanti numeri ci sono nel vettore** utilizzando la funzione `len()`.  **Ottieni lo stesso numero** accedendo all'attributo `.size` del vettore.\n",
    "\n",
    "3. Quale pensi sia il tipo di dato (`dtype`) del vettore?  Prova a rispondere senza eseguire il codice e Verifica la tua risposta accedendo all'attributo `.dtype` del vettore\n",
    "\n",
    "4. Scrivi l'array usando una list comprehension che controlla che i numeri siano primi. "
   ]
  },
  {
   "cell_type": "code",
   "execution_count": null,
   "metadata": {},
   "outputs": [
    {
     "data": {
      "text/plain": [
       "dtype('int64')"
      ]
     },
     "execution_count": 2,
     "metadata": {},
     "output_type": "execute_result"
    }
   ],
   "source": [
    "#%conda install numpy\n",
    "import numpy as np\n",
    "arr_primi = np.array([1, 2, 3, 5, 7])\n",
    "lunghezza = len(arr_primi)\n",
    "#Credo che il dtype del vettore sia int\n",
    "arr_primi.dtype\n",
    "\n",
    "arr_primi2 = np.array([i for i in range (0,11) if i ==1 | i ==2 | i == 3 | i ==5 | i == 7])"
   ]
  },
  {
   "cell_type": "markdown",
   "metadata": {},
   "source": [
    "### **3.  Operazioni su array**\n",
    "Crea un array **a**, 1D (senza digitarlo esplicitamente), e genera due nuovi array **b**, contenente una sottostringa a piacere e **c** che è il reverse dell'array **a** (esempio [1,2,3] diventa [3,2,1]) .  Dividi l'array **a** per l'array **c**. Fai la stessa cosa per una lista."
   ]
  },
  {
   "cell_type": "code",
   "execution_count": 5,
   "metadata": {},
   "outputs": [],
   "source": [
    "import numpy as np\n",
    "a = np.array([1, 2, 3])\n",
    "b = np.array([char for char in \"Test stringa\" if char != \"a\"])\n",
    "c = a[::-1]\n",
    "\n",
    "d = a/c\n",
    "\n",
    "a_2 = [1, 2, 3]\n",
    "b_2 = [char for char in \"Test stringa\" if char != \"a\"]\n",
    "c_2 = a_2[::-1]\n",
    "\n",
    "#d_2 = a_2/c_2"
   ]
  }
 ],
 "metadata": {
  "kernelspec": {
   "display_name": "Python 3",
   "language": "python",
   "name": "python3"
  },
  "language_info": {
   "codemirror_mode": {
    "name": "ipython",
    "version": 3
   },
   "file_extension": ".py",
   "mimetype": "text/x-python",
   "name": "python",
   "nbconvert_exporter": "python",
   "pygments_lexer": "ipython3",
   "version": "3.12.9"
  }
 },
 "nbformat": 4,
 "nbformat_minor": 2
}
