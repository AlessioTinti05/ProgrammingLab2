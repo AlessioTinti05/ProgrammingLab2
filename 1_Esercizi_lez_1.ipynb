{
 "cells": [
  {
   "cell_type": "markdown",
   "metadata": {},
   "source": [
    "### **1. Trasformare cicli in list comprehension**\n",
    "\n",
    "Fai tre esempi di cicli producono una lista e poi riscrivi lo stesso codice usando la list comprehension"
   ]
  },
  {
   "cell_type": "code",
   "execution_count": 1,
   "metadata": {},
   "outputs": [
    {
     "data": {
      "text/plain": [
       "['s', 's']"
      ]
     },
     "execution_count": 1,
     "metadata": {},
     "output_type": "execute_result"
    }
   ],
   "source": [
    "#1)\n",
    "lista1 = [1, 2, 3, 4]\n",
    "lista2 = [2, 3, 4, 5]\n",
    "lista_in_comune = []\n",
    "for item in lista1:\n",
    "    if item in lista2:\n",
    "        lista_in_comune.append(item)\n",
    "lista_in_comune\n",
    "\n",
    "lista_in_comune2 = [item for item in lista1 if item in lista2]\n",
    "lista_in_comune2\n",
    "\n",
    "#2)\n",
    "lista3 = []\n",
    "for i in range(0,11):\n",
    "    if i % 3 == 0:\n",
    "        i = i*i\n",
    "        lista3.append(i)\n",
    "lista3\n",
    "\n",
    "lista3_2 = [i*i for i in range(0,11) if i%3==0]\n",
    "lista3_2\n",
    "\n",
    "#3)\n",
    "lista_result = []\n",
    "\n",
    "for char in \"Test stringa\":\n",
    "    if char == \"s\":\n",
    "        lista_result.append(char)\n",
    "lista_result\n",
    "\n",
    "lista_result2 = [char for char in \"Test stringa\" if char == \"s\"]\n",
    "lista_result2\n"
   ]
  },
  {
   "cell_type": "markdown",
   "metadata": {},
   "source": [
    "### **2. Vettore di Numeri Primi**\n",
    "\n",
    "1. **Crea un vettore** contenente tutti i numeri primi compresi tra **0 e 10**  \n",
    "   _(Puoi scriverli direttamente nell'array)._\n",
    "\n",
    "2. **Conta quanti numeri ci sono nel vettore** utilizzando la funzione `len()`.  **Ottieni lo stesso numero** accedendo all'attributo `.size` del vettore.\n",
    "\n",
    "3. Quale pensi sia il tipo di dato (`dtype`) del vettore?  Prova a rispondere senza eseguire il codice e Verifica la tua risposta accedendo all'attributo `.dtype` del vettore\n",
    "\n",
    "4. Scrivi l'array usando una list comprehension che controlla che i numeri siano primi. "
   ]
  },
  {
   "cell_type": "code",
   "execution_count": 2,
   "metadata": {},
   "outputs": [],
   "source": [
    "#%conda install numpy\n",
    "import numpy as np\n",
    "arr_primi = np.array([1, 2, 3, 5, 7])\n",
    "lunghezza = len(arr_primi)\n",
    "#Credo che il dtype del vettore sia int\n",
    "arr_primi.dtype\n",
    "\n",
    "arr_primi2 = np.array([i for i in range (0,11) if i ==1 | i ==2 | i == 3 | i ==5 | i == 7])"
   ]
  },
  {
   "cell_type": "markdown",
   "metadata": {},
   "source": [
    "### **3.  Operazioni su array**\n",
    "Crea un array **a**, 1D (senza digitarlo esplicitamente), e genera due nuovi array **b**, contenente una sottostringa a piacere e **c** che è il reverse dell'array **a** (esempio [1,2,3] diventa [3,2,1]) .  Dividi l'array **a** per l'array **c**. Fai la stessa cosa per una lista."
   ]
  },
  {
   "cell_type": "code",
   "execution_count": null,
   "metadata": {},
   "outputs": [
    {
     "ename": "NameError",
     "evalue": "name 'e' is not defined",
     "output_type": "error",
     "traceback": [
      "\u001b[31m---------------------------------------------------------------------------\u001b[39m",
      "\u001b[31mNameError\u001b[39m                                 Traceback (most recent call last)",
      "\u001b[36mCell\u001b[39m\u001b[36m \u001b[39m\u001b[32mIn[2]\u001b[39m\u001b[32m, line 5\u001b[39m\n\u001b[32m      3\u001b[39m b = np.array([char \u001b[38;5;28;01mfor\u001b[39;00m char \u001b[38;5;129;01min\u001b[39;00m \u001b[33m\"\u001b[39m\u001b[33mTest stringa\u001b[39m\u001b[33m\"\u001b[39m \u001b[38;5;28;01mif\u001b[39;00m char != \u001b[33m\"\u001b[39m\u001b[33ma\u001b[39m\u001b[33m\"\u001b[39m])\n\u001b[32m      4\u001b[39m c = a[::-\u001b[32m1\u001b[39m]\n\u001b[32m----> \u001b[39m\u001b[32m5\u001b[39m \u001b[43me\u001b[49m\n\u001b[32m      6\u001b[39m d = a/c\n\u001b[32m      8\u001b[39m a_2 = [\u001b[32m1\u001b[39m, \u001b[32m2\u001b[39m, \u001b[32m3\u001b[39m]\n",
      "\u001b[31mNameError\u001b[39m: name 'e' is not defined"
     ]
    }
   ],
   "source": [
    "import numpy as np\n",
    "a = np.array([1, 2, 3])\n",
    "b = np.array([char for char in \"Test stringa\" if char != \"a\"])\n",
    "c = a[::-1]\n",
    "\n",
    "d = a/c\n",
    "\n",
    "a_2 = [1, 2, 3]\n",
    "b_2 = [char for char in \"Test stringa\" if char != \"a\"]\n",
    "c_2 = a_2[::-1]\n",
    "\n",
    "#d_2 = a_2/c_2"
   ]
  }
 ],
 "metadata": {
  "kernelspec": {
   "display_name": "Python 3",
   "language": "python",
   "name": "python3"
  },
  "language_info": {
   "codemirror_mode": {
    "name": "ipython",
    "version": 3
   },
   "file_extension": ".py",
   "mimetype": "text/x-python",
   "name": "python",
   "nbconvert_exporter": "python",
   "pygments_lexer": "ipython3",
   "version": "3.12.9"
  }
 },
 "nbformat": 4,
 "nbformat_minor": 2
}
