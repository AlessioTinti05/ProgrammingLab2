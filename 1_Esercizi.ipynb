{
 "cells": [
  {
   "cell_type": "markdown",
   "metadata": {},
   "source": [
    "### **1. Trasformare cicli in list comprehension**\n",
    "\n",
    "Fai tre esempi di cicli producono una lista e poi riscrivi lo stesso codice usando la list comprehension"
   ]
  },
  {
   "cell_type": "code",
   "execution_count": null,
   "metadata": {},
   "outputs": [
    {
     "data": {
      "text/plain": [
       "[0, 9, 36, 81]"
      ]
     },
     "execution_count": 5,
     "metadata": {},
     "output_type": "execute_result"
    }
   ],
   "source": [
    "#1)\n",
    "lista1 = [1, 2, 3, 4]\n",
    "lista2 = [2, 3, 4, 5]\n",
    "lista_in_comune = []\n",
    "for item in lista1:\n",
    "    if item in lista2:\n",
    "        lista_in_comune.append(item)\n",
    "lista_in_comune\n",
    "\n",
    "lista_in_comune2 = [item for item in lista1 if item in lista2]\n",
    "lista_in_comune2\n",
    "\n",
    "#2)\n",
    "lista3 = []\n",
    "for i in range(0,11):\n",
    "    if i % 3 == 0:\n",
    "        i = i*i\n",
    "        lista3.append(i)\n",
    "lista3\n",
    "\n",
    "lista3_2 = [i*i for i in range(0,11) if i%3==0]\n",
    "lista3_2\n",
    "\n",
    "#3)\n",
    "lista_result = []\n",
    "\n",
    "for char in \"Test stringa\":\n",
    "    if char == \"s\":\n",
    "        lista_result.append(char)\n",
    "lista_result\n",
    "\n",
    "lista_result2 = [char for char in \"Test stringa\" if char == \"s\"]\n",
    "lista_result2\n"
   ]
  },
  {
   "cell_type": "markdown",
   "metadata": {},
   "source": [
    "### **2. Vettore di Numeri Primi**\n",
    "\n",
    "1. **Crea un vettore** contenente tutti i numeri primi compresi tra **0 e 10**  \n",
    "   _(Puoi scriverli direttamente nell'array)._\n",
    "\n",
    "2. **Conta quanti numeri ci sono nel vettore** utilizzando la funzione `len()`.  **Ottieni lo stesso numero** accedendo all'attributo `.size` del vettore.\n",
    "\n",
    "3. Quale pensi sia il tipo di dato (`dtype`) del vettore?  Prova a rispondere senza eseguire il codice e Verifica la tua risposta accedendo all'attributo `.dtype` del vettore\n",
    "\n",
    "4. Scrivi l'array usando una list comprehension che controlla che i numeri siano primi. "
   ]
  },
  {
   "cell_type": "code",
   "execution_count": 1,
   "metadata": {},
   "outputs": [
    {
     "name": "stderr",
     "output_type": "stream",
     "text": [
      "Retrying (Retry(total=2, connect=None, read=None, redirect=None, status=None)) after connection broken by 'ConnectionResetError(10054, \"Connessione in corso interrotta forzatamente dall'host remoto\", None, 10054, None)': /pkgs/main/notices.json\n",
      "\n",
      "Retrying (Retry(total=2, connect=None, read=None, redirect=None, status=None)) after connection broken by 'ConnectionResetError(10054, \"Connessione in corso interrotta forzatamente dall'host remoto\", None, 10054, None)': /pkgs/r/notices.json\n",
      "\n",
      "Retrying (Retry(total=2, connect=None, read=None, redirect=None, status=None)) after connection broken by 'ConnectionResetError(10054, \"Connessione in corso interrotta forzatamente dall'host remoto\", None, 10054, None)': /pkgs/msys2/notices.json\n",
      "\n",
      "Retrying (Retry(total=1, connect=None, read=None, redirect=None, status=None)) after connection broken by 'ConnectionResetError(10054, \"Connessione in corso interrotta forzatamente dall'host remoto\", None, 10054, None)': /pkgs/main/notices.json\n",
      "\n",
      "Retrying (Retry(total=1, connect=None, read=None, redirect=None, status=None)) after connection broken by 'ConnectionResetError(10054, \"Connessione in corso interrotta forzatamente dall'host remoto\", None, 10054, None)': /pkgs/r/notices.json\n",
      "\n",
      "Retrying (Retry(total=1, connect=None, read=None, redirect=None, status=None)) after connection broken by 'ConnectionResetError(10054, \"Connessione in corso interrotta forzatamente dall'host remoto\", None, 10054, None)': /pkgs/msys2/notices.json\n",
      "\n",
      "Retrying (Retry(total=0, connect=None, read=None, redirect=None, status=None)) after connection broken by 'ConnectionResetError(10054, \"Connessione in corso interrotta forzatamente dall'host remoto\", None, 10054, None)': /pkgs/main/notices.json\n",
      "\n",
      "Retrying (Retry(total=0, connect=None, read=None, redirect=None, status=None)) after connection broken by 'ConnectionResetError(10054, \"Connessione in corso interrotta forzatamente dall'host remoto\", None, 10054, None)': /pkgs/r/notices.json\n",
      "\n",
      "ERROR conda.notices.fetch:get_channel_notice_response(73): Request error <HTTPSConnectionPool(host='repo.anaconda.com', port=443): Max retries exceeded with url: /pkgs/main/notices.json (Caused by ProtocolError('Connection aborted.', ConnectionResetError(10054, \"Connessione in corso interrotta forzatamente dall'host remoto\", None, 10054, None)))> for channel: pkgs/main url: https://repo.anaconda.com/pkgs/main/notices.json\n",
      "Retrying (Retry(total=2, connect=None, read=None, redirect=None, status=None)) after connection broken by 'ConnectionResetError(10054, \"Connessione in corso interrotta forzatamente dall'host remoto\", None, 10054, None)': /conda-forge/noarch/repodata.json\n",
      "\n",
      "Retrying (Retry(total=2, connect=None, read=None, redirect=None, status=None)) after connection broken by 'ConnectionResetError(10054, \"Connessione in corso interrotta forzatamente dall'host remoto\", None, 10054, None)': /conda-forge/noarch/repodata.json.zst\n",
      "\n",
      "Retrying (Retry(total=2, connect=None, read=None, redirect=None, status=None)) after connection broken by 'ConnectionResetError(10054, \"Connessione in corso interrotta forzatamente dall'host remoto\", None, 10054, None)': /conda-forge/win-64/repodata.json.zst\n",
      "\n",
      "Retrying (Retry(total=1, connect=None, read=None, redirect=None, status=None)) after connection broken by 'ConnectionResetError(10054, \"Connessione in corso interrotta forzatamente dall'host remoto\", None, 10054, None)': /conda-forge/noarch/repodata.json.zst\n",
      "\n",
      "Retrying (Retry(total=1, connect=None, read=None, redirect=None, status=None)) after connection broken by 'ConnectionResetError(10054, \"Connessione in corso interrotta forzatamente dall'host remoto\", None, 10054, None)': /conda-forge/win-64/repodata.json.zst\n",
      "\n",
      "Retrying (Retry(total=2, connect=None, read=None, redirect=None, status=None)) after connection broken by 'ConnectionResetError(10054, \"Connessione in corso interrotta forzatamente dall'host remoto\", None, 10054, None)': /pkgs/main/win-64/setuptools-72.1.0-py312haa95532_0.conda\n",
      "\n",
      "Retrying (Retry(total=2, connect=None, read=None, redirect=None, status=None)) after connection broken by 'ConnectionResetError(10054, \"Connessione in corso interrotta forzatamente dall'host remoto\", None, 10054, None)': /pkgs/main/win-64/mkl_fft-1.3.11-py312h827c3e9_0.conda\n",
      "\n",
      "Retrying (Retry(total=1, connect=None, read=None, redirect=None, status=None)) after connection broken by 'ConnectionResetError(10054, \"Connessione in corso interrotta forzatamente dall'host remoto\", None, 10054, None)': /pkgs/main/win-64/mkl_fft-1.3.11-py312h827c3e9_0.conda\n",
      "\n",
      "Retrying (Retry(total=0, connect=None, read=None, redirect=None, status=None)) after connection broken by 'ConnectionResetError(10054, \"Connessione in corso interrotta forzatamente dall'host remoto\", None, 10054, None)': /pkgs/main/win-64/mkl_fft-1.3.11-py312h827c3e9_0.conda\n",
      "\n"
     ]
    },
    {
     "name": "stdout",
     "output_type": "stream",
     "text": [
      "Retrieving notices: ...working... done\n",
      "Channels:\n",
      " - defaults\n",
      " - conda-forge\n",
      "Platform: win-64\n",
      "Collecting package metadata (repodata.json): ...working... done\n",
      "Solving environment: ...working... done\n",
      "\n",
      "## Package Plan ##\n",
      "\n",
      "  environment location: c:\\Users\\hp\\miniconda3\n",
      "\n",
      "  added / updated specs:\n",
      "    - numpy\n",
      "\n",
      "\n",
      "The following packages will be downloaded:\n",
      "\n",
      "    package                    |            build\n",
      "    ---------------------------|-----------------\n",
      "    ca-certificates-2025.2.25  |       haa95532_0         130 KB\n",
      "    certifi-2025.1.31          |  py312haa95532_0         164 KB\n",
      "    mkl-service-2.4.0          |  py312h827c3e9_2          64 KB\n",
      "    mkl_fft-1.3.11             |  py312h827c3e9_0         169 KB\n",
      "    mkl_random-1.2.8           |  py312h0158946_0         252 KB\n",
      "    numpy-2.2.2                |  py312hfd52020_0          12 KB\n",
      "    numpy-base-2.2.2           |  py312h4dde369_0         8.7 MB\n",
      "    setuptools-72.1.0          |  py312haa95532_0         2.9 MB\n",
      "    ------------------------------------------------------------\n",
      "                                           Total:        12.4 MB\n",
      "\n",
      "The following NEW packages will be INSTALLED:\n",
      "\n",
      "  blas               pkgs/main/win-64::blas-1.0-mkl \n",
      "  intel-openmp       pkgs/main/win-64::intel-openmp-2023.1.0-h59b6b97_46320 \n",
      "  mkl                pkgs/main/win-64::mkl-2023.1.0-h6b88ed4_46358 \n",
      "  mkl-service        pkgs/main/win-64::mkl-service-2.4.0-py312h827c3e9_2 \n",
      "  mkl_fft            pkgs/main/win-64::mkl_fft-1.3.11-py312h827c3e9_0 \n",
      "  mkl_random         pkgs/main/win-64::mkl_random-1.2.8-py312h0158946_0 \n",
      "  numpy              pkgs/main/win-64::numpy-2.2.2-py312hfd52020_0 \n",
      "  numpy-base         pkgs/main/win-64::numpy-base-2.2.2-py312h4dde369_0 \n",
      "  tbb                pkgs/main/win-64::tbb-2021.8.0-h59b6b97_0 \n",
      "\n",
      "The following packages will be UPDATED:\n",
      "\n",
      "  ca-certificates    conda-forge::ca-certificates-2025.1.3~ --> pkgs/main::ca-certificates-2025.2.25-haa95532_0 \n",
      "\n",
      "The following packages will be SUPERSEDED by a higher-priority channel:\n",
      "\n",
      "  certifi            conda-forge/noarch::certifi-2025.1.31~ --> pkgs/main/win-64::certifi-2025.1.31-py312haa95532_0 \n",
      "\n",
      "The following packages will be DOWNGRADED:\n",
      "\n",
      "  setuptools                         75.8.0-py312haa95532_0 --> 72.1.0-py312haa95532_0 \n",
      "\n",
      "\n",
      "\n",
      "Downloading and Extracting Packages: ...working... done\n",
      "Preparing transaction: ...working... done\n",
      "Verifying transaction: ...working... done\n",
      "Executing transaction: ...working... done\n",
      "\n",
      "Note: you may need to restart the kernel to use updated packages.\n"
     ]
    }
   ],
   "source": [
    "%conda install numpy\n",
    "\n",
    "import numpy as np\n",
    "arr_primi = np.array([1, 2, 3, 5, 7])\n",
    "lunghezza = len(arr_primi)\n",
    "#Credo che il dtype del vettore sia int\n",
    "arr_primi.dtype\n",
    "\n",
    "arr_primi2 = np.array([i for i in range (0,11) if i ==1 | i ==2 | i == 3 | i ==5 | i == 7])"
   ]
  },
  {
   "cell_type": "markdown",
   "metadata": {},
   "source": [
    "### **3.  Operazioni su array**\n",
    "Crea un array **a**, 1D (senza digitarlo esplicitamente), e genera due nuovi array **b**, contenente una sottostringa a piacere e **c** che è il reverse dell'array **a** (esempio [1,2,3] diventa [3,2,1]) .  Dividi l'array **a** per l'array **c**. Fai la stessa cosa per una lista."
   ]
  },
  {
   "cell_type": "code",
   "execution_count": null,
   "metadata": {},
   "outputs": [
    {
     "ename": "NameError",
     "evalue": "name 'np' is not defined",
     "output_type": "error",
     "traceback": [
      "\u001b[31m---------------------------------------------------------------------------\u001b[39m",
      "\u001b[31mNameError\u001b[39m                                 Traceback (most recent call last)",
      "\u001b[36mCell\u001b[39m\u001b[36m \u001b[39m\u001b[32mIn[1]\u001b[39m\u001b[32m, line 1\u001b[39m\n\u001b[32m----> \u001b[39m\u001b[32m1\u001b[39m a = \u001b[43mnp\u001b[49m.array([\u001b[32m1\u001b[39m, \u001b[32m2\u001b[39m, \u001b[32m3\u001b[39m])\n\u001b[32m      2\u001b[39m b = np.array([char \u001b[38;5;28;01mfor\u001b[39;00m char \u001b[38;5;129;01min\u001b[39;00m \u001b[33m\"\u001b[39m\u001b[33mTest stringa\u001b[39m\u001b[33m\"\u001b[39m \u001b[38;5;28;01mif\u001b[39;00m char != \u001b[33m\"\u001b[39m\u001b[33ma\u001b[39m\u001b[33m\"\u001b[39m])\n\u001b[32m      3\u001b[39m c = a[::-\u001b[32m1\u001b[39m]\n",
      "\u001b[31mNameError\u001b[39m: name 'np' is not defined"
     ]
    }
   ],
   "source": [
    "import numpy as np\n",
    "a = np.array([1, 2, 3])\n",
    "b = np.array([char for char in \"Test stringa\" if char != \"a\"])\n",
    "c = a[::-1]\n",
    "\n",
    "d = a/c\n",
    "\n",
    "a_2 = [1, 2, 3]\n",
    "b_2 = [char for char in \"Test stringa\" if char != \"a\"]\n",
    "c_2 = a_2[::-1]\n",
    "\n",
    "d_2 = a_2/c_2"
   ]
  }
 ],
 "metadata": {
  "kernelspec": {
   "display_name": "Python 3",
   "language": "python",
   "name": "python3"
  },
  "language_info": {
   "codemirror_mode": {
    "name": "ipython",
    "version": 3
   },
   "file_extension": ".py",
   "mimetype": "text/x-python",
   "name": "python",
   "nbconvert_exporter": "python",
   "pygments_lexer": "ipython3",
   "version": "3.12.9"
  }
 },
 "nbformat": 4,
 "nbformat_minor": 2
}
